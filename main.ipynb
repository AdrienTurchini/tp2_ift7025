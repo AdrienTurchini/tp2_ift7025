{
 "metadata": {
  "language_info": {
   "codemirror_mode": {
    "name": "ipython",
    "version": 3
   },
   "file_extension": ".py",
   "mimetype": "text/x-python",
   "name": "python",
   "nbconvert_exporter": "python",
   "pygments_lexer": "ipython3",
   "version": "3.8.5-final"
  },
  "orig_nbformat": 2,
  "kernelspec": {
   "name": "python3",
   "display_name": "Python 3.8.5 64-bit (conda)",
   "metadata": {
    "interpreter": {
     "hash": "2eff0a5fe884919e5eef65ab69e870c8b8b81b2f1fb3e047b623e6e04aeef26a"
    }
   }
  }
 },
 "nbformat": 4,
 "nbformat_minor": 2,
 "cells": [
  {
   "cell_type": "code",
   "execution_count": 84,
   "metadata": {},
   "outputs": [],
   "source": [
    "import numpy as np"
   ]
  },
  {
   "cell_type": "code",
   "execution_count": 85,
   "metadata": {},
   "outputs": [
    {
     "output_type": "execute_result",
     "data": {
      "text/plain": [
       "array([0, 1, 2, 1, 1, 0, 0, 1, 2, 2, 0, 0, 1, 2, 1, 1, 2, 2, 0, 1, 1, 2,\n",
       "       1, 2, 0, 0, 2, 0, 1, 1, 1, 0, 0, 1, 2, 1, 2, 0, 2, 0, 2, 1, 0, 1,\n",
       "       1, 1, 0, 2, 0, 0, 0, 1, 2, 1, 1, 1, 2, 0, 1, 1, 2, 2, 2, 1, 2, 2,\n",
       "       2, 1, 0, 2, 0, 1, 1, 0, 1, 0, 2, 0, 0, 2, 2, 2, 2, 1, 0, 0, 2, 1,\n",
       "       1, 2, 1, 0, 0, 1, 2, 2, 2, 1, 0, 1, 1, 1, 1, 2, 1, 0, 1, 1, 2, 1,\n",
       "       1, 1, 2, 2, 0, 2, 0, 0, 2, 1, 1, 1, 0, 1, 2, 0, 1, 1, 0, 1, 0, 1,\n",
       "       1, 1, 0, 1, 1, 1, 2, 2, 2, 1, 1, 1, 1, 1, 0, 2, 1, 2, 2, 0, 0, 0,\n",
       "       1, 2, 1, 0, 2, 1, 2, 1, 2, 2, 1, 2, 0, 1, 1, 1, 1, 2, 1, 2, 1, 0,\n",
       "       1, 1, 0, 0, 0, 1, 1, 2, 2, 0, 1, 1, 1, 0, 2, 1, 2, 1, 0, 0, 0, 2,\n",
       "       0, 2, 1, 1, 2, 2, 2, 2, 2, 0, 2, 0, 1, 0, 2, 1, 0, 1, 1, 1, 2, 2,\n",
       "       2, 1, 2, 1, 2, 1, 2, 0, 2, 0, 0, 2, 0, 0, 1, 1, 1, 0, 0, 1, 1, 2,\n",
       "       2, 0, 1, 1, 0, 2, 2, 1, 2, 1, 2, 2, 0, 2, 0, 0, 2, 0, 0, 0, 2, 0,\n",
       "       2, 1, 2, 2, 1, 0, 2, 0, 1, 1, 2, 2, 0, 0, 0, 1, 0, 0, 2, 0, 1, 0,\n",
       "       0, 2, 2, 2, 0, 0, 0, 0, 0, 1, 2, 1, 0, 2, 2, 0, 1, 2, 0, 0, 2, 0,\n",
       "       1, 2, 2, 1, 0, 2, 1, 1, 0, 0, 2, 2, 2, 0, 1, 0, 1, 1, 2, 2, 0, 2,\n",
       "       2, 0, 0, 0, 2, 0, 0, 0, 1, 1, 0, 2, 0, 1, 2, 0, 0, 1, 2, 2, 2, 2,\n",
       "       1, 2, 1, 1, 2, 1, 0, 0, 2, 1, 0, 2, 1, 1, 0, 2, 1, 2, 0, 2, 1, 1,\n",
       "       0, 1, 0, 1, 2, 2, 1, 1, 0, 1, 2, 1, 1, 1, 1, 2, 1, 2, 0, 1, 1, 1,\n",
       "       1, 2, 2, 0, 1, 2, 2, 1, 2, 1, 1, 0, 1, 0, 1, 0, 0, 1, 2, 2, 2, 1,\n",
       "       1, 0, 2, 1, 2, 0, 2, 1, 0, 2, 1, 0, 1, 0, 1, 2, 1, 2, 0, 1, 2, 1,\n",
       "       1, 2, 2, 1, 1, 1, 2, 0, 2, 0, 2, 1, 2, 0, 1, 2, 2, 0, 1, 0, 0, 2,\n",
       "       2, 0, 1, 1, 0, 1, 0, 2, 1, 2, 2, 2, 2, 1, 2, 1, 2, 2, 1, 1, 0, 2,\n",
       "       0, 2, 0, 2, 1, 1, 1, 2, 1, 2, 0, 1, 1, 1, 0, 2, 2, 2, 2, 1, 0, 0,\n",
       "       0, 0, 1, 0, 0, 2, 1, 2, 0, 0, 1, 1, 2, 2, 0, 2, 1, 1, 1, 1, 2, 0,\n",
       "       2, 0, 0, 1, 0, 1, 0, 0, 0, 1, 1, 2, 0, 1, 1, 0, 2, 0, 0, 2, 0, 0,\n",
       "       1, 1, 1, 1, 1, 1, 2, 0, 0, 0, 1, 1, 2, 0, 0, 2, 1, 1, 1, 1, 1, 0,\n",
       "       2, 0, 1, 2, 0, 1, 1, 2, 1, 2, 2, 2, 2, 1, 1, 0, 0, 0, 1, 0, 0, 0,\n",
       "       1, 2, 1, 1, 1, 2, 2, 2, 2, 2, 1, 1, 2, 0, 1, 1, 2, 0, 1, 1, 2, 1,\n",
       "       1, 1, 0, 2, 0, 0, 2, 2, 2, 0, 0, 0, 2, 0, 0, 1, 1, 0, 1, 2, 1, 2,\n",
       "       0, 0, 2, 2, 2, 2, 0, 0, 1, 1, 2, 0, 1, 0, 0, 1, 1, 1, 0, 2, 0, 2,\n",
       "       0, 0, 2, 1, 0, 1, 1, 1, 0, 2, 0, 2, 2, 1, 1, 0, 1, 0, 2, 1, 2, 1,\n",
       "       0, 0, 1, 2, 2, 0, 0, 0, 2, 1, 2, 1, 2, 0, 1, 2, 0, 1, 1, 0, 2, 0,\n",
       "       1, 0, 1, 2, 2, 0, 2, 1, 2, 1, 1, 2, 2, 0, 0, 1, 0, 1, 0, 2, 0, 2,\n",
       "       2, 0, 1, 0, 1, 1, 0, 1, 1, 1, 0, 2, 2, 0, 1, 1, 2, 0, 2, 0, 2, 1,\n",
       "       2, 2, 2, 1, 1, 1, 0, 2, 1, 2, 0, 2, 0, 2, 2, 1, 2, 1, 1, 1, 0, 2,\n",
       "       2, 2, 1, 1, 0, 1, 1, 0, 2, 0, 0, 0, 0, 0, 1, 1, 1, 2, 0, 0, 2, 1,\n",
       "       1, 0, 2, 0, 2, 0, 2, 0, 2, 2, 0, 0, 0, 1, 0, 2, 2, 1, 1, 0, 1, 1,\n",
       "       1, 1, 2, 1, 2, 1, 0, 0, 2, 0, 1, 0, 2, 2, 1, 0, 0, 1, 0, 0, 2, 0,\n",
       "       1, 2, 0, 0, 2, 2, 0, 1, 1, 2, 2, 1, 0, 1, 1, 2, 2, 2, 1, 0, 2, 1,\n",
       "       1, 0, 0, 1, 1, 1, 2, 0, 2, 1, 1, 0, 2, 1, 1, 2, 2, 0, 1, 0, 1, 1,\n",
       "       1, 2, 2, 0, 2, 0, 2, 1, 0, 0, 1, 1, 0, 0, 2, 0, 0, 1, 0, 2, 2, 1,\n",
       "       2, 0, 2, 2, 2, 1, 0, 0, 0, 2, 1, 2, 1, 0, 2, 1, 0, 0, 1, 0, 2, 2,\n",
       "       0, 2, 1, 2, 1, 1, 2, 2, 2, 2, 0, 0, 0, 0, 0, 1, 2, 0, 2, 2, 2, 2,\n",
       "       2, 2, 0, 1, 0, 2, 1, 0, 2, 1, 0, 1, 2, 2, 2, 0, 1, 0, 0, 2, 2, 0,\n",
       "       0, 2, 2, 0, 2, 2, 2, 1, 2, 1, 2, 0, 1, 0, 2, 1, 0, 0, 0, 2, 1, 2,\n",
       "       1, 2, 0, 0, 1, 0, 0, 0, 1, 1])"
      ]
     },
     "metadata": {},
     "execution_count": 85
    }
   ],
   "source": [
    "y_pred = np.random.choice([0, 1, 2], size=1000)\n",
    "y_pred"
   ]
  },
  {
   "cell_type": "code",
   "execution_count": 86,
   "metadata": {},
   "outputs": [
    {
     "output_type": "execute_result",
     "data": {
      "text/plain": [
       "array([1, 2, 2, 2, 0, 0, 1, 1, 1, 2, 0, 1, 0, 1, 0, 2, 1, 1, 2, 1, 1, 0,\n",
       "       1, 2, 0, 1, 0, 2, 1, 0, 2, 2, 1, 1, 0, 1, 1, 2, 0, 0, 0, 2, 0, 2,\n",
       "       2, 0, 0, 1, 1, 0, 0, 1, 0, 1, 1, 0, 2, 1, 1, 0, 1, 1, 2, 1, 0, 0,\n",
       "       0, 1, 2, 2, 2, 2, 1, 2, 1, 0, 1, 2, 0, 1, 1, 2, 0, 2, 0, 1, 2, 0,\n",
       "       0, 2, 1, 1, 1, 1, 1, 1, 0, 1, 2, 1, 1, 1, 2, 1, 0, 2, 2, 2, 1, 2,\n",
       "       0, 1, 2, 0, 2, 0, 1, 0, 0, 1, 2, 2, 1, 0, 1, 0, 2, 0, 0, 1, 1, 2,\n",
       "       2, 0, 1, 0, 2, 1, 0, 2, 1, 2, 2, 2, 0, 2, 2, 0, 2, 1, 1, 0, 1, 2,\n",
       "       2, 2, 2, 1, 2, 0, 1, 0, 1, 2, 0, 1, 0, 0, 2, 1, 0, 0, 2, 0, 1, 0,\n",
       "       1, 2, 2, 1, 0, 1, 1, 2, 1, 2, 1, 0, 0, 2, 2, 1, 1, 1, 2, 2, 2, 2,\n",
       "       2, 0, 2, 0, 2, 2, 0, 0, 1, 0, 1, 0, 0, 2, 2, 0, 1, 2, 1, 0, 0, 1,\n",
       "       2, 2, 0, 2, 0, 2, 2, 0, 2, 1, 2, 2, 0, 1, 0, 2, 0, 2, 1, 0, 0, 0,\n",
       "       0, 2, 0, 2, 1, 1, 0, 0, 1, 1, 0, 2, 1, 0, 1, 2, 2, 1, 1, 2, 2, 0,\n",
       "       1, 0, 1, 2, 0, 0, 2, 2, 0, 2, 1, 2, 0, 1, 1, 2, 0, 0, 0, 0, 2, 0,\n",
       "       1, 0, 0, 2, 1, 0, 1, 0, 2, 1, 1, 2, 0, 1, 0, 1, 2, 1, 1, 1, 0, 0,\n",
       "       0, 1, 1, 1, 1, 0, 1, 2, 2, 2, 2, 1, 1, 0, 1, 0, 1, 1, 1, 2, 0, 1,\n",
       "       1, 1, 1, 0, 0, 1, 0, 2, 0, 1, 1, 0, 0, 2, 2, 0, 2, 0, 1, 1, 2, 2,\n",
       "       1, 0, 2, 1, 1, 0, 0, 2, 0, 1, 1, 0, 0, 0, 0, 0, 2, 1, 0, 0, 2, 0,\n",
       "       0, 2, 1, 0, 0, 2, 2, 1, 0, 2, 2, 0, 2, 0, 0, 1, 1, 0, 0, 1, 2, 0,\n",
       "       1, 1, 0, 0, 1, 0, 0, 0, 0, 1, 2, 0, 0, 2, 0, 2, 2, 2, 1, 0, 1, 0,\n",
       "       2, 1, 1, 1, 0, 2, 1, 1, 0, 0, 0, 2, 2, 1, 1, 1, 0, 0, 1, 2, 0, 1,\n",
       "       2, 1, 2, 1, 0, 1, 0, 0, 1, 0, 0, 2, 1, 2, 1, 2, 0, 1, 1, 2, 2, 0,\n",
       "       0, 2, 2, 2, 2, 0, 0, 1, 0, 1, 1, 0, 2, 2, 2, 1, 1, 0, 2, 0, 1, 2,\n",
       "       1, 0, 0, 1, 0, 1, 2, 1, 0, 1, 0, 1, 0, 0, 1, 0, 1, 0, 2, 2, 1, 1,\n",
       "       0, 0, 2, 0, 0, 2, 2, 1, 1, 1, 2, 1, 2, 0, 1, 2, 0, 1, 1, 2, 2, 1,\n",
       "       1, 2, 0, 1, 2, 2, 2, 0, 1, 2, 0, 2, 1, 0, 2, 0, 0, 0, 1, 1, 2, 0,\n",
       "       0, 0, 1, 2, 2, 2, 0, 2, 1, 2, 1, 2, 2, 1, 1, 2, 1, 2, 2, 1, 2, 2,\n",
       "       2, 2, 1, 2, 0, 2, 1, 1, 0, 0, 1, 0, 0, 1, 1, 1, 1, 2, 0, 0, 1, 1,\n",
       "       2, 1, 0, 1, 0, 2, 2, 2, 0, 1, 0, 2, 2, 1, 0, 2, 1, 1, 1, 1, 0, 2,\n",
       "       0, 2, 1, 0, 0, 0, 0, 1, 1, 1, 2, 0, 2, 0, 0, 0, 1, 1, 2, 2, 2, 2,\n",
       "       2, 1, 2, 1, 2, 0, 1, 0, 0, 1, 2, 0, 2, 2, 2, 1, 1, 1, 0, 0, 2, 1,\n",
       "       1, 2, 2, 2, 2, 1, 0, 1, 1, 1, 2, 0, 2, 0, 2, 2, 0, 2, 0, 2, 0, 2,\n",
       "       0, 0, 0, 1, 0, 0, 1, 0, 1, 0, 2, 0, 1, 0, 0, 0, 1, 2, 2, 1, 0, 2,\n",
       "       2, 2, 1, 2, 2, 1, 1, 2, 2, 0, 0, 0, 0, 1, 2, 1, 1, 1, 1, 1, 2, 2,\n",
       "       2, 1, 0, 1, 0, 0, 2, 1, 2, 0, 0, 1, 0, 2, 2, 0, 1, 1, 1, 0, 2, 1,\n",
       "       1, 2, 2, 2, 2, 2, 2, 0, 1, 2, 0, 2, 1, 2, 2, 1, 2, 2, 0, 2, 1, 2,\n",
       "       1, 0, 2, 1, 1, 0, 2, 2, 1, 1, 2, 0, 1, 2, 2, 1, 2, 0, 2, 1, 1, 0,\n",
       "       2, 0, 1, 2, 0, 1, 0, 2, 0, 2, 1, 1, 0, 0, 1, 0, 0, 0, 2, 1, 2, 2,\n",
       "       1, 2, 0, 1, 2, 1, 2, 1, 0, 1, 0, 1, 0, 1, 2, 0, 1, 2, 0, 2, 1, 2,\n",
       "       0, 1, 0, 0, 1, 1, 1, 0, 1, 0, 0, 2, 0, 1, 0, 2, 0, 1, 1, 0, 0, 1,\n",
       "       2, 2, 2, 2, 0, 0, 1, 2, 0, 1, 1, 0, 2, 2, 2, 2, 0, 1, 0, 2, 2, 1,\n",
       "       0, 1, 1, 2, 1, 2, 2, 0, 1, 2, 2, 1, 2, 2, 0, 1, 0, 1, 1, 0, 1, 1,\n",
       "       0, 0, 2, 1, 1, 2, 1, 0, 2, 1, 2, 1, 2, 1, 2, 1, 2, 0, 0, 2, 2, 1,\n",
       "       0, 2, 1, 2, 2, 2, 0, 1, 2, 1, 1, 2, 0, 1, 0, 0, 2, 1, 0, 0, 2, 0,\n",
       "       0, 2, 1, 1, 2, 1, 1, 0, 1, 2, 2, 1, 0, 1, 0, 1, 0, 0, 0, 0, 0, 2,\n",
       "       0, 0, 2, 1, 2, 0, 1, 1, 1, 1, 2, 2, 2, 0, 1, 1, 1, 0, 1, 0, 1, 0,\n",
       "       2, 2, 2, 0, 2, 1, 0, 2, 1, 0])"
      ]
     },
     "metadata": {},
     "execution_count": 86
    }
   ],
   "source": [
    "y = np.random.choice([0, 1, 2], size=1000)\n",
    "y"
   ]
  },
  {
   "cell_type": "code",
   "execution_count": 87,
   "metadata": {},
   "outputs": [
    {
     "output_type": "execute_result",
     "data": {
      "text/plain": [
       "array([[106, 108, 117],\n",
       "       [114, 116, 114],\n",
       "       [ 97, 129,  99]], dtype=int64)"
      ]
     },
     "metadata": {},
     "execution_count": 87
    }
   ],
   "source": [
    "from sklearn.metrics import confusion_matrix\n",
    "confusion_matrix(y, y_pred)"
   ]
  },
  {
   "cell_type": "code",
   "execution_count": 88,
   "metadata": {},
   "outputs": [
    {
     "output_type": "stream",
     "name": "stdout",
     "text": [
      "[[106. 108. 117.]\n [114. 116. 114.]\n [ 97. 129.  99.]]\n"
     ]
    }
   ],
   "source": [
    "cf = np.zeros((3, 3))\n",
    "n_calss = 3\n",
    "for yi, yhat in zip(y, y_pred):\n",
    "    for i in range(n_calss):\n",
    "        for j in range(n_calss):\n",
    "            if yi == i and yhat == j:\n",
    "                cf[i, j] += 1\n",
    "\n",
    "print(cf)"
   ]
  },
  {
   "cell_type": "code",
   "execution_count": 89,
   "metadata": {},
   "outputs": [
    {
     "output_type": "execute_result",
     "data": {
      "text/plain": [
       "1"
      ]
     },
     "metadata": {},
     "execution_count": 89
    }
   ],
   "source": [
    "np.unique(y)\n",
    "encoded_labels = ['a', 'b', 'c']\n",
    "encoded_labels.index('b')"
   ]
  },
  {
   "cell_type": "code",
   "execution_count": 90,
   "metadata": {},
   "outputs": [
    {
     "output_type": "execute_result",
     "data": {
      "text/plain": [
       "[[4, 0, 2],\n",
       " [0.5, 0.6, 6],\n",
       " [0, 0.8, 800],\n",
       " [0.5, 5, 6],\n",
       " [10, 5, 2],\n",
       " [1, 8, 4],\n",
       " [100, 10, 6]]"
      ]
     },
     "metadata": {},
     "execution_count": 90
    }
   ],
   "source": [
    "distances = [[0.5, 0.6, 6], [100, 10, 6], [4, 0, 2], [0.5, 5, 6], [10, 5, 2], [1, 8, 4], [0, 0.8, 800]]\n",
    "distances.sort(key=lambda distances: distances[1])\n",
    "distances"
   ]
  },
  {
   "cell_type": "code",
   "execution_count": 91,
   "metadata": {},
   "outputs": [],
   "source": [
    "from Knn import Knn\n",
    "import pandas as pd\n",
    "from sklearn.model_selection import train_test_split\n",
    "from labelEncoder import labelEncoder"
   ]
  },
  {
   "cell_type": "code",
   "execution_count": 92,
   "metadata": {},
   "outputs": [],
   "source": [
    "data = np.array(pd.read_csv('./datasets/bezdekIris.data', header=None))"
   ]
  },
  {
   "cell_type": "code",
   "execution_count": 93,
   "metadata": {},
   "outputs": [],
   "source": [
    "X = data[:, :4]\n",
    "y = data[:, 4]\n",
    "le = labelEncoder()\n",
    "y = le.fit_transform(y)\n",
    "X_train, X_test, y_train, y_test = train_test_split(X, y, test_size=0.4, random_state=42)"
   ]
  },
  {
   "cell_type": "code",
   "execution_count": 94,
   "metadata": {
    "tags": []
   },
   "outputs": [
    {
     "output_type": "execute_result",
     "data": {
      "text/plain": [
       "{'mean_accuracy': 0.9833333333333333,\n",
       " 'mean_precision': 0.9814814814814815,\n",
       " 'mean_recall': 0.9833333333333334,\n",
       " 'mean_F1-score': 0.981929181929182,\n",
       " 'Confusion_matrix': array([[23,  0,  0],\n",
       "        [ 0, 19,  0],\n",
       "        [ 0,  1, 17]], dtype=int64)}"
      ]
     },
     "metadata": {},
     "execution_count": 94
    }
   ],
   "source": [
    "model = Knn()\n",
    "model.train(X_train, y_train)\n",
    "y_pred = model.predict(X_test)\n",
    "scores = model.evaluate(X_test, y_test)\n",
    "scores"
   ]
  },
  {
   "cell_type": "code",
   "execution_count": 95,
   "metadata": {},
   "outputs": [],
   "source": [
    "def cv_knn(N_split, X_train, y_train, X_test, y_test, K_values):\n",
    "\n",
    "    X = np.concatenate((X_train, X_test), axis=0)\n",
    "    y = np.concatenate((y_train, y_test), axis=0)\n",
    "\n",
    "    # Splits\n",
    "    X_splits = np.split(X, N_split)\n",
    "    y_splits = np.split(y, N_split)\n",
    "\n",
    "    # Recherche\n",
    "    scores = {}\n",
    "    for K in K_values:\n",
    "        accuracys = []\n",
    "        for i in range(N_split):\n",
    "            X_train = np.concatenate(np.delete(X_splits, i, 0))\n",
    "            X_test = X_splits[i]\n",
    "            y_train = np.concatenate(np.delete(y_splits, i, 0))\n",
    "            y_test = y_splits[i]\n",
    "\n",
    "            model = Knn(K=K)\n",
    "            model.train(X_train, y_train)\n",
    "            acc = model.evaluate(X_test, y_test)['mean_accuracy']\n",
    "            \n",
    "            accuracys.append(acc)\n",
    "\n",
    "        scores[K] = np.mean(accuracys)\n",
    "\n",
    "    # print + selection\n",
    "    print(max(scores.items(), key=operator.itemgetter(1)))\n",
    "    return max(scores.items(), key=operator.itemgetter(1))[0]"
   ]
  },
  {
   "cell_type": "code",
   "execution_count": 96,
   "metadata": {},
   "outputs": [
    {
     "output_type": "stream",
     "name": "stdout",
     "text": [
      "IRIS\n",
      "(8, 0.9800000000000001)\n",
      "WIN\n",
      "(8, 0.7192592592592592)\n",
      "ABALONE\n",
      "(9, 0.8208812260536398)\n"
     ]
    }
   ],
   "source": [
    "import operator\n",
    "from load_datasets import load_iris_dataset\n",
    "from load_datasets import load_wine_dataset\n",
    "from load_datasets import load_abalone_dataset\n",
    "\n",
    "# Initialisez vos paramètres\n",
    "K_values = [k for k in range(1, 10)]\n",
    "\n",
    "# Charger/lire les datasets\n",
    "X_train_iris, y_train_iris, X_test_iris, y_test_iris = load_iris_dataset(train_ratio=0.7, seed=42, shuffle=True)\n",
    "X_train_wine, y_train_wine, X_test_wine, y_test_wine = load_wine_dataset(train_ratio=0.7, seed=42, shuffle=False)\n",
    "X_train_abalone, y_train_abalone, X_test_abalone, y_test_abalone = load_abalone_dataset(train_ratio=0.7, seed=42, shuffle=True)\n",
    "\n",
    "# Pop une valeur de train car len(X_abalone) == 4177 est premier donc on ne peut pas split ...\n",
    "X_train_abalone = np.delete(X_train_abalone, 0, axis=0)\n",
    "y_train_abalone = np.delete(y_train_abalone, 0, axis=0)\n",
    "\n",
    "# Encode Iris y\n",
    "le = labelEncoder()\n",
    "y_train_iris = le.fit_transform(y_train_iris)\n",
    "y_test_iris = le.transform(y_test_iris)\n",
    "\n",
    "# Validation croisée\n",
    "N_split_iris = 10\n",
    "N_split_wine = 3 # --> Trop long\n",
    "N_split_abalone = 3 # --> Trop long\n",
    "\n",
    "print('IRIS')\n",
    "K_opti_iris = cv_knn(N_split_iris, X_train_iris, y_train_iris, X_test_iris, y_test_iris, K_values)\n",
    "print('WINE')\n",
    "K_opti_wine = cv_knn(N_split_wine, X_train_wine, y_train_wine, X_test_wine, y_test_wine, K_values)\n",
    "print('ABALONE')\n",
    "K_opti_abalone = cv_knn(N_split_abalone, X_train_abalone, y_train_abalone, X_test_abalone, y_test_abalone, K_values)"
   ]
  },
  {
   "cell_type": "code",
   "execution_count": 97,
   "metadata": {},
   "outputs": [],
   "source": [
    "a = np.array([[10, 20], [30, 40], [50, 60], [70, 80], [90, 100]])\n",
    "a = np.delete(a, 0, axis=0)"
   ]
  },
  {
   "cell_type": "code",
   "execution_count": 98,
   "metadata": {},
   "outputs": [
    {
     "output_type": "execute_result",
     "data": {
      "text/plain": [
       "array([[ 30,  40],\n",
       "       [ 50,  60],\n",
       "       [ 70,  80],\n",
       "       [ 90, 100]])"
      ]
     },
     "metadata": {},
     "execution_count": 98
    }
   ],
   "source": [
    "a\n"
   ]
  }
 ]
}