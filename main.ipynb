{
 "metadata": {
  "language_info": {
   "codemirror_mode": {
    "name": "ipython",
    "version": 3
   },
   "file_extension": ".py",
   "mimetype": "text/x-python",
   "name": "python",
   "nbconvert_exporter": "python",
   "pygments_lexer": "ipython3",
   "version": "3.8.5-final"
  },
  "orig_nbformat": 2,
  "kernelspec": {
   "name": "python3",
   "display_name": "Python 3.8.5 64-bit (conda)",
   "metadata": {
    "interpreter": {
     "hash": "2eff0a5fe884919e5eef65ab69e870c8b8b81b2f1fb3e047b623e6e04aeef26a"
    }
   }
  }
 },
 "nbformat": 4,
 "nbformat_minor": 2,
 "cells": [
  {
   "cell_type": "code",
   "execution_count": 14,
   "metadata": {},
   "outputs": [],
   "source": [
    "import numpy as np"
   ]
  },
  {
   "cell_type": "code",
   "execution_count": 15,
   "metadata": {},
   "outputs": [
    {
     "output_type": "execute_result",
     "data": {
      "text/plain": [
       "array([1, 1, 0, 1, 0, 2, 2, 1, 2, 1, 2, 1, 1, 0, 0, 2, 2, 2, 2, 2, 1, 2,\n",
       "       1, 1, 2, 0, 0, 2, 2, 1, 2, 1, 2, 0, 2, 0, 0, 1, 2, 0, 0, 1, 0, 0,\n",
       "       1, 0, 0, 1, 0, 0, 2, 1, 0, 1, 0, 0, 2, 2, 0, 1, 2, 1, 2, 1, 0, 0,\n",
       "       0, 2, 2, 0, 1, 0, 1, 1, 1, 1, 1, 0, 0, 1, 0, 2, 2, 2, 1, 2, 0, 2,\n",
       "       2, 1, 2, 0, 1, 0, 1, 2, 0, 1, 1, 0, 2, 0, 1, 0, 1, 1, 0, 2, 2, 2,\n",
       "       0, 2, 0, 2, 0, 0, 1, 1, 0, 0, 2, 1, 2, 2, 2, 2, 0, 2, 2, 2, 0, 0,\n",
       "       1, 1, 2, 1, 0, 2, 1, 1, 1, 0, 1, 0, 0, 0, 0, 1, 2, 2, 2, 0, 2, 2,\n",
       "       1, 2, 2, 0, 2, 0, 2, 0, 1, 2, 1, 1, 1, 2, 2, 1, 1, 0, 1, 0, 0, 2,\n",
       "       2, 1, 2, 2, 0, 0, 1, 1, 2, 2, 2, 1, 0, 1, 1, 1, 0, 2, 1, 1, 1, 0,\n",
       "       2, 2, 0, 0, 2, 2, 1, 2, 2, 0, 1, 0, 0, 0, 1, 1, 2, 0, 2, 2, 2, 2,\n",
       "       1, 1, 0, 2, 1, 1, 0, 1, 0, 2, 0, 2, 0, 2, 0, 2, 2, 2, 1, 2, 2, 2,\n",
       "       2, 1, 0, 2, 0, 1, 1, 0, 1, 1, 0, 2, 2, 1, 2, 1, 2, 1, 0, 2, 1, 0,\n",
       "       2, 0, 2, 2, 0, 0, 1, 2, 1, 2, 0, 1, 0, 2, 2, 2, 2, 0, 2, 0, 2, 2,\n",
       "       2, 0, 2, 0, 1, 1, 1, 2, 2, 2, 2, 1, 1, 0, 0, 2, 0, 2, 1, 0, 0, 1,\n",
       "       1, 2, 2, 2, 0, 0, 0, 2, 1, 0, 1, 2, 2, 2, 1, 0, 2, 1, 1, 0, 2, 2,\n",
       "       0, 2, 2, 1, 2, 1, 2, 1, 2, 2, 1, 0, 2, 0, 2, 0, 1, 0, 2, 2, 2, 2,\n",
       "       1, 2, 1, 2, 1, 0, 2, 2, 1, 0, 0, 0, 1, 1, 0, 1, 1, 0, 1, 1, 1, 1,\n",
       "       1, 1, 0, 1, 0, 0, 0, 0, 0, 2, 0, 0, 0, 1, 1, 2, 2, 2, 0, 2, 0, 1,\n",
       "       2, 0, 1, 0, 2, 0, 0, 1, 2, 0, 2, 2, 0, 1, 0, 2, 1, 0, 1, 0, 1, 0,\n",
       "       0, 0, 0, 0, 1, 2, 1, 0, 2, 0, 1, 2, 1, 2, 0, 0, 1, 2, 2, 0, 2, 0,\n",
       "       1, 2, 1, 2, 2, 1, 0, 1, 0, 2, 2, 1, 2, 0, 2, 1, 1, 1, 0, 2, 1, 1,\n",
       "       2, 0, 2, 0, 0, 2, 0, 2, 0, 0, 1, 0, 1, 0, 1, 2, 1, 2, 1, 0, 1, 1,\n",
       "       2, 1, 1, 2, 0, 1, 1, 0, 1, 2, 2, 2, 0, 1, 1, 2, 1, 0, 1, 2, 0, 1,\n",
       "       1, 0, 2, 2, 2, 1, 2, 2, 2, 1, 1, 2, 0, 2, 1, 2, 1, 1, 2, 0, 0, 1,\n",
       "       2, 2, 2, 0, 1, 1, 1, 0, 1, 2, 2, 2, 0, 0, 2, 1, 1, 1, 2, 0, 0, 0,\n",
       "       2, 0, 2, 1, 0, 0, 2, 0, 0, 0, 1, 1, 0, 0, 2, 2, 1, 0, 1, 2, 2, 0,\n",
       "       0, 2, 1, 1, 1, 2, 1, 2, 0, 2, 1, 1, 0, 1, 0, 2, 0, 1, 0, 0, 1, 0,\n",
       "       1, 1, 2, 1, 1, 2, 2, 0, 1, 2, 1, 1, 1, 1, 0, 2, 0, 0, 2, 1, 1, 1,\n",
       "       1, 2, 0, 2, 0, 2, 0, 1, 0, 2, 1, 2, 0, 2, 0, 2, 2, 1, 0, 2, 1, 2,\n",
       "       0, 1, 0, 0, 1, 2, 2, 0, 0, 1, 0, 2, 2, 1, 1, 0, 1, 2, 1, 0, 2, 1,\n",
       "       1, 2, 1, 1, 0, 2, 2, 2, 1, 1, 1, 0, 0, 2, 2, 0, 0, 2, 0, 2, 0, 0,\n",
       "       1, 1, 2, 1, 1, 2, 2, 2, 2, 2, 2, 2, 1, 2, 2, 2, 1, 0, 0, 1, 0, 0,\n",
       "       1, 2, 1, 1, 2, 0, 1, 1, 2, 0, 2, 0, 2, 2, 0, 2, 0, 1, 1, 2, 0, 1,\n",
       "       0, 0, 1, 2, 1, 2, 1, 0, 0, 1, 0, 0, 2, 2, 0, 2, 1, 2, 0, 1, 0, 1,\n",
       "       0, 2, 1, 2, 2, 2, 0, 0, 2, 1, 2, 2, 2, 1, 0, 2, 2, 2, 2, 2, 0, 0,\n",
       "       0, 2, 0, 2, 1, 1, 2, 0, 2, 2, 2, 1, 1, 0, 0, 0, 1, 2, 2, 0, 0, 1,\n",
       "       0, 1, 2, 2, 1, 1, 1, 1, 0, 2, 1, 1, 2, 1, 0, 1, 2, 0, 0, 1, 0, 0,\n",
       "       2, 0, 2, 0, 1, 1, 0, 2, 0, 2, 1, 1, 0, 2, 0, 2, 0, 1, 2, 2, 0, 0,\n",
       "       1, 0, 1, 2, 0, 2, 2, 1, 1, 2, 2, 2, 1, 0, 0, 1, 2, 1, 2, 1, 0, 0,\n",
       "       1, 1, 1, 2, 2, 1, 0, 1, 0, 0, 2, 2, 1, 2, 0, 1, 0, 0, 2, 0, 0, 0,\n",
       "       2, 2, 1, 0, 2, 2, 1, 1, 0, 1, 2, 2, 2, 1, 2, 0, 2, 1, 2, 2, 0, 0,\n",
       "       1, 2, 2, 0, 1, 2, 0, 2, 0, 0, 0, 0, 1, 2, 1, 1, 2, 1, 2, 2, 1, 1,\n",
       "       2, 2, 2, 2, 1, 1, 2, 2, 0, 1, 1, 0, 0, 2, 2, 0, 2, 2, 0, 0, 0, 1,\n",
       "       0, 1, 0, 1, 2, 2, 0, 2, 2, 2, 2, 2, 0, 2, 1, 2, 0, 0, 2, 1, 0, 1,\n",
       "       2, 0, 0, 1, 0, 1, 0, 0, 1, 0, 1, 0, 2, 1, 0, 0, 1, 2, 0, 1, 0, 0,\n",
       "       1, 1, 2, 0, 2, 2, 1, 2, 2, 1])"
      ]
     },
     "metadata": {},
     "execution_count": 15
    }
   ],
   "source": [
    "y_pred = np.random.choice([0, 1, 2], size=1000)\n",
    "y_pred"
   ]
  },
  {
   "cell_type": "code",
   "execution_count": 16,
   "metadata": {},
   "outputs": [
    {
     "output_type": "execute_result",
     "data": {
      "text/plain": [
       "array([1, 0, 0, 1, 0, 0, 0, 2, 2, 2, 1, 1, 2, 0, 0, 2, 2, 0, 2, 1, 0, 1,\n",
       "       0, 2, 0, 0, 1, 1, 1, 1, 2, 0, 1, 2, 0, 2, 2, 2, 2, 1, 1, 1, 0, 2,\n",
       "       2, 0, 2, 2, 0, 1, 0, 1, 0, 1, 1, 0, 1, 0, 2, 1, 0, 1, 2, 2, 0, 0,\n",
       "       0, 1, 2, 1, 2, 2, 2, 0, 2, 0, 0, 2, 0, 0, 2, 0, 0, 1, 1, 0, 2, 1,\n",
       "       2, 0, 0, 2, 1, 1, 0, 2, 2, 0, 1, 2, 2, 2, 1, 1, 1, 1, 0, 1, 0, 1,\n",
       "       2, 1, 2, 2, 2, 0, 1, 2, 2, 1, 2, 0, 2, 1, 0, 1, 1, 0, 1, 2, 1, 2,\n",
       "       2, 2, 2, 1, 0, 0, 0, 1, 0, 1, 0, 1, 0, 2, 2, 2, 2, 2, 0, 1, 2, 2,\n",
       "       0, 0, 2, 0, 0, 0, 0, 1, 0, 1, 2, 1, 2, 0, 1, 2, 1, 1, 0, 2, 1, 0,\n",
       "       1, 0, 0, 1, 0, 1, 2, 0, 1, 2, 2, 2, 1, 2, 0, 1, 1, 0, 1, 2, 2, 0,\n",
       "       1, 0, 2, 2, 0, 2, 1, 2, 2, 2, 2, 2, 2, 0, 1, 0, 1, 2, 2, 2, 2, 1,\n",
       "       1, 2, 1, 2, 0, 2, 2, 0, 2, 2, 2, 1, 2, 2, 2, 2, 0, 2, 0, 1, 0, 1,\n",
       "       1, 2, 2, 1, 2, 0, 2, 2, 0, 0, 1, 2, 0, 2, 2, 1, 2, 1, 0, 2, 2, 2,\n",
       "       2, 2, 0, 1, 1, 1, 0, 2, 1, 2, 2, 2, 0, 0, 0, 2, 0, 0, 0, 2, 0, 2,\n",
       "       0, 0, 2, 0, 1, 1, 2, 2, 2, 1, 2, 0, 2, 2, 1, 2, 0, 2, 2, 1, 1, 2,\n",
       "       2, 2, 1, 2, 0, 1, 2, 0, 0, 1, 2, 2, 1, 2, 0, 2, 2, 1, 2, 0, 2, 0,\n",
       "       2, 0, 2, 0, 0, 2, 2, 2, 2, 1, 0, 1, 2, 0, 0, 1, 0, 2, 0, 1, 2, 0,\n",
       "       2, 2, 2, 2, 2, 0, 2, 1, 2, 2, 1, 1, 1, 2, 2, 2, 1, 1, 1, 1, 0, 1,\n",
       "       1, 0, 1, 1, 2, 1, 0, 2, 0, 2, 2, 1, 2, 1, 1, 0, 1, 0, 1, 0, 0, 2,\n",
       "       0, 0, 0, 1, 2, 2, 1, 2, 2, 1, 0, 2, 2, 2, 1, 2, 0, 2, 2, 0, 2, 0,\n",
       "       1, 2, 2, 0, 2, 1, 2, 2, 2, 1, 1, 0, 0, 0, 0, 0, 2, 1, 2, 0, 0, 1,\n",
       "       1, 2, 0, 2, 2, 0, 2, 2, 2, 1, 2, 2, 2, 1, 2, 1, 1, 2, 1, 2, 2, 0,\n",
       "       0, 2, 0, 1, 0, 2, 0, 2, 1, 2, 2, 1, 1, 2, 2, 1, 1, 2, 1, 2, 2, 2,\n",
       "       1, 1, 2, 0, 1, 1, 2, 2, 2, 1, 0, 0, 2, 0, 0, 0, 1, 2, 2, 2, 2, 2,\n",
       "       2, 0, 2, 2, 1, 2, 1, 0, 0, 2, 0, 1, 0, 1, 1, 1, 1, 1, 1, 0, 2, 1,\n",
       "       0, 1, 0, 2, 0, 1, 2, 0, 0, 1, 1, 2, 0, 2, 1, 2, 2, 1, 0, 2, 1, 2,\n",
       "       2, 1, 1, 0, 0, 1, 0, 2, 2, 2, 2, 2, 0, 2, 1, 1, 1, 1, 0, 2, 1, 0,\n",
       "       1, 2, 0, 1, 1, 2, 1, 0, 0, 1, 2, 2, 0, 2, 0, 2, 2, 2, 2, 1, 1, 0,\n",
       "       0, 2, 0, 1, 1, 1, 2, 1, 1, 0, 1, 2, 0, 1, 2, 0, 1, 0, 2, 0, 1, 1,\n",
       "       2, 1, 0, 2, 1, 1, 0, 2, 1, 1, 0, 2, 2, 0, 2, 2, 1, 0, 1, 0, 0, 2,\n",
       "       0, 0, 0, 0, 1, 0, 1, 2, 2, 1, 0, 0, 0, 2, 2, 0, 1, 1, 0, 2, 1, 0,\n",
       "       0, 2, 2, 1, 2, 0, 1, 0, 1, 0, 0, 1, 1, 0, 1, 0, 2, 1, 2, 0, 2, 1,\n",
       "       0, 0, 0, 0, 1, 1, 0, 0, 2, 0, 1, 0, 1, 0, 1, 1, 1, 2, 2, 2, 1, 0,\n",
       "       2, 2, 1, 2, 0, 1, 2, 2, 1, 2, 0, 1, 1, 2, 2, 0, 1, 0, 1, 0, 1, 2,\n",
       "       1, 2, 0, 2, 0, 2, 1, 0, 0, 2, 2, 1, 0, 1, 0, 1, 1, 1, 1, 2, 1, 2,\n",
       "       0, 0, 0, 0, 2, 2, 0, 2, 0, 2, 0, 1, 2, 0, 1, 1, 0, 1, 0, 1, 0, 1,\n",
       "       2, 1, 2, 0, 2, 2, 0, 0, 1, 2, 2, 1, 2, 0, 0, 1, 2, 1, 2, 1, 2, 1,\n",
       "       2, 2, 1, 2, 0, 0, 2, 2, 2, 0, 1, 1, 2, 2, 0, 1, 2, 1, 2, 0, 0, 1,\n",
       "       2, 0, 2, 2, 1, 2, 1, 2, 2, 1, 2, 2, 2, 0, 1, 1, 0, 1, 1, 1, 1, 2,\n",
       "       1, 0, 1, 1, 1, 1, 0, 0, 2, 2, 1, 0, 2, 1, 2, 2, 1, 1, 0, 0, 0, 2,\n",
       "       1, 2, 2, 2, 2, 0, 0, 0, 1, 2, 1, 1, 1, 1, 2, 1, 1, 1, 2, 1, 2, 2,\n",
       "       2, 2, 2, 2, 2, 1, 0, 1, 2, 2, 1, 1, 1, 2, 1, 0, 1, 0, 1, 0, 0, 2,\n",
       "       1, 2, 2, 1, 1, 0, 0, 2, 0, 2, 2, 2, 2, 0, 2, 0, 2, 1, 1, 0, 1, 1,\n",
       "       0, 2, 1, 0, 1, 0, 2, 0, 1, 0, 1, 0, 2, 2, 0, 1, 1, 1, 0, 2, 1, 1,\n",
       "       0, 1, 1, 2, 2, 1, 0, 1, 2, 1, 1, 2, 2, 0, 1, 2, 2, 1, 1, 0, 2, 0,\n",
       "       1, 1, 1, 1, 2, 0, 0, 2, 1, 1, 0, 2, 2, 0, 0, 1, 2, 2, 1, 2, 2, 2,\n",
       "       2, 0, 2, 0, 1, 0, 2, 0, 0, 1])"
      ]
     },
     "metadata": {},
     "execution_count": 16
    }
   ],
   "source": [
    "y = np.random.choice([0, 1, 2], size=1000)\n",
    "y"
   ]
  },
  {
   "cell_type": "code",
   "execution_count": 17,
   "metadata": {},
   "outputs": [
    {
     "output_type": "execute_result",
     "data": {
      "text/plain": [
       "array([[ 94,  89, 112],\n",
       "       [100, 107, 115],\n",
       "       [127, 122, 134]], dtype=int64)"
      ]
     },
     "metadata": {},
     "execution_count": 17
    }
   ],
   "source": [
    "from sklearn.metrics import confusion_matrix\n",
    "confusion_matrix(y, y_pred)"
   ]
  },
  {
   "cell_type": "code",
   "execution_count": 18,
   "metadata": {},
   "outputs": [
    {
     "output_type": "stream",
     "name": "stdout",
     "text": [
      "[[ 94.  89. 112.]\n [100. 107. 115.]\n [127. 122. 134.]]\n"
     ]
    }
   ],
   "source": [
    "cf = np.zeros((3, 3))\n",
    "n_calss = 3\n",
    "for yi, yhat in zip(y, y_pred):\n",
    "    for i in range(n_calss):\n",
    "        for j in range(n_calss):\n",
    "            if yi == i and yhat == j:\n",
    "                cf[i, j] += 1\n",
    "\n",
    "print(cf)"
   ]
  },
  {
   "cell_type": "code",
   "execution_count": 19,
   "metadata": {},
   "outputs": [
    {
     "output_type": "execute_result",
     "data": {
      "text/plain": [
       "1"
      ]
     },
     "metadata": {},
     "execution_count": 19
    }
   ],
   "source": [
    "np.unique(y)\n",
    "encoded_labels = ['a', 'b', 'c']\n",
    "encoded_labels.index('b')"
   ]
  },
  {
   "cell_type": "code",
   "execution_count": 20,
   "metadata": {},
   "outputs": [
    {
     "output_type": "execute_result",
     "data": {
      "text/plain": [
       "[[4, 0, 2],\n",
       " [0.5, 0.6, 6],\n",
       " [0, 0.8, 800],\n",
       " [0.5, 5, 6],\n",
       " [10, 5, 2],\n",
       " [1, 8, 4],\n",
       " [100, 10, 6]]"
      ]
     },
     "metadata": {},
     "execution_count": 20
    }
   ],
   "source": [
    "distances = [[0.5, 0.6, 6], [100, 10, 6], [4, 0, 2], [0.5, 5, 6], [10, 5, 2], [1, 8, 4], [0, 0.8, 800]]\n",
    "distances.sort(key=lambda distances: distances[1])\n",
    "distances"
   ]
  },
  {
   "cell_type": "code",
   "execution_count": 21,
   "metadata": {},
   "outputs": [],
   "source": [
    "from Knn import Knn\n",
    "import pandas as pd\n",
    "from sklearn.model_selection import train_test_split\n",
    "from labelEncoder import labelEncoder"
   ]
  },
  {
   "cell_type": "code",
   "execution_count": 22,
   "metadata": {},
   "outputs": [],
   "source": [
    "data = np.array(pd.read_csv('./datasets/bezdekIris.data', header=None))"
   ]
  },
  {
   "cell_type": "code",
   "execution_count": 23,
   "metadata": {},
   "outputs": [],
   "source": [
    "X = data[:, :4]\n",
    "y = data[:, 4]\n",
    "le = labelEncoder()\n",
    "y = le.fit_transform(y)\n",
    "X_train, X_test, y_train, y_test = train_test_split(X, y, test_size=0.4, random_state=42)"
   ]
  },
  {
   "cell_type": "code",
   "execution_count": 24,
   "metadata": {
    "tags": []
   },
   "outputs": [
    {
     "output_type": "execute_result",
     "data": {
      "text/plain": [
       "{'mean_accuracy': 0.9833333333333333,\n",
       " 'mean_precision': 0.9814814814814815,\n",
       " 'mean_recall': 0.9833333333333334,\n",
       " 'mean_F1-score': 0.981929181929182,\n",
       " 'Confusion_matrix': array([[23,  0,  0],\n",
       "        [ 0, 19,  0],\n",
       "        [ 0,  1, 17]], dtype=int64)}"
      ]
     },
     "metadata": {},
     "execution_count": 24
    }
   ],
   "source": [
    "model = Knn()\n",
    "model.train(X_train, y_train)\n",
    "y_pred = model.predict(X_test)\n",
    "scores = model.evaluate(X_test, y_test)\n",
    "scores"
   ]
  },
  {
   "cell_type": "code",
   "execution_count": 25,
   "metadata": {},
   "outputs": [],
   "source": [
    "def cv_knn(N_split, X_train, y_train, X_test, y_test, K_values):\n",
    "\n",
    "    X = np.concatenate((X_train, X_test), axis=0)\n",
    "    y = np.concatenate((y_train, y_test), axis=0)\n",
    "\n",
    "    # Splits\n",
    "    X_splits = np.split(X, N_split)\n",
    "    y_splits = np.split(y, N_split)\n",
    "\n",
    "    # Recherche\n",
    "    scores = {}\n",
    "    for K in K_values:\n",
    "        accuracys = []\n",
    "        for i in range(N_split):\n",
    "            X_train = np.concatenate(np.delete(X_splits, i, 0))\n",
    "            X_test = X_splits[i]\n",
    "            y_train = np.concatenate(np.delete(y_splits, i, 0))\n",
    "            y_test = y_splits[i]\n",
    "\n",
    "            model = Knn(K=K)\n",
    "            model.train(X_train, y_train)\n",
    "            acc = model.evaluate(X_test, y_test)['mean_accuracy']\n",
    "            \n",
    "            accuracys.append(acc)\n",
    "\n",
    "        scores[K] = np.mean(accuracys)\n",
    "\n",
    "    # print + selection\n",
    "    print(max(scores.items(), key=operator.itemgetter(1)))\n",
    "    return max(scores.items(), key=operator.itemgetter(1))[0]"
   ]
  },
  {
   "cell_type": "code",
   "execution_count": 13,
   "metadata": {},
   "outputs": [
    {
     "output_type": "stream",
     "name": "stdout",
     "text": [
      "IRIS\n",
      "(4, 0.98)\n",
      "WIN\n",
      "c:\\Users\\hk3pz\\Documents\\Cours\\LAVAL\\Hiver_2021\\IFT_7025\\TP2\\Knn.py:81: RuntimeWarning: invalid value encountered in longlong_scalars\n",
      "  self.precisions.append(row[i] / np.sum(row))\n",
      "c:\\Users\\hk3pz\\Documents\\Cours\\LAVAL\\Hiver_2021\\IFT_7025\\TP2\\Knn.py:87: RuntimeWarning: invalid value encountered in longlong_scalars\n",
      "  self.recalls.append(row[i] / np.sum(row))\n"
     ]
    },
    {
     "output_type": "error",
     "ename": "KeyboardInterrupt",
     "evalue": "",
     "traceback": [
      "\u001b[1;31m---------------------------------------------------------------------------\u001b[0m",
      "\u001b[1;31mKeyboardInterrupt\u001b[0m                         Traceback (most recent call last)",
      "\u001b[1;32m<ipython-input-13-3864f5822820>\u001b[0m in \u001b[0;36m<module>\u001b[1;34m\u001b[0m\n\u001b[0;32m     25\u001b[0m \u001b[0mK_opti_iris\u001b[0m \u001b[1;33m=\u001b[0m \u001b[0mcv_knn\u001b[0m\u001b[1;33m(\u001b[0m\u001b[0mN_split_iris\u001b[0m\u001b[1;33m,\u001b[0m \u001b[0mX_train_iris\u001b[0m\u001b[1;33m,\u001b[0m \u001b[0my_train_iris\u001b[0m\u001b[1;33m,\u001b[0m \u001b[0mX_test_iris\u001b[0m\u001b[1;33m,\u001b[0m \u001b[0my_test_iris\u001b[0m\u001b[1;33m,\u001b[0m \u001b[0mK_values\u001b[0m\u001b[1;33m)\u001b[0m\u001b[1;33m\u001b[0m\u001b[1;33m\u001b[0m\u001b[0m\n\u001b[0;32m     26\u001b[0m \u001b[0mprint\u001b[0m\u001b[1;33m(\u001b[0m\u001b[1;34m'WIN'\u001b[0m\u001b[1;33m)\u001b[0m\u001b[1;33m\u001b[0m\u001b[1;33m\u001b[0m\u001b[0m\n\u001b[1;32m---> 27\u001b[1;33m \u001b[0mK_opti_wine\u001b[0m \u001b[1;33m=\u001b[0m \u001b[0mcv_knn\u001b[0m\u001b[1;33m(\u001b[0m\u001b[0mN_split_wine\u001b[0m\u001b[1;33m,\u001b[0m \u001b[0mX_train_wine\u001b[0m\u001b[1;33m,\u001b[0m \u001b[0my_train_wine\u001b[0m\u001b[1;33m,\u001b[0m \u001b[0mX_test_wine\u001b[0m\u001b[1;33m,\u001b[0m \u001b[0my_test_wine\u001b[0m\u001b[1;33m,\u001b[0m \u001b[0mK_values\u001b[0m\u001b[1;33m)\u001b[0m\u001b[1;33m\u001b[0m\u001b[1;33m\u001b[0m\u001b[0m\n\u001b[0m\u001b[0;32m     28\u001b[0m \u001b[0mprint\u001b[0m\u001b[1;33m(\u001b[0m\u001b[1;34m'ABALONE'\u001b[0m\u001b[1;33m)\u001b[0m\u001b[1;33m\u001b[0m\u001b[1;33m\u001b[0m\u001b[0m\n\u001b[0;32m     29\u001b[0m \u001b[0mK_opti_abalone\u001b[0m \u001b[1;33m=\u001b[0m \u001b[0mcv_knn\u001b[0m\u001b[1;33m(\u001b[0m\u001b[0mN_split_abalone\u001b[0m\u001b[1;33m,\u001b[0m \u001b[0mX_train_abalone\u001b[0m\u001b[1;33m,\u001b[0m \u001b[0my_train_abalone\u001b[0m\u001b[1;33m,\u001b[0m \u001b[0mX_test_abalone\u001b[0m\u001b[1;33m,\u001b[0m \u001b[0my_test_abalone\u001b[0m\u001b[1;33m,\u001b[0m \u001b[0mK_values\u001b[0m\u001b[1;33m)\u001b[0m\u001b[1;33m\u001b[0m\u001b[1;33m\u001b[0m\u001b[0m\n",
      "\u001b[1;32m<ipython-input-12-df2a1435d6fa>\u001b[0m in \u001b[0;36mcv_knn\u001b[1;34m(N_split, X_train, y_train, X_test, y_test, K_values)\u001b[0m\n\u001b[0;32m     20\u001b[0m             \u001b[0mmodel\u001b[0m \u001b[1;33m=\u001b[0m \u001b[0mKnn\u001b[0m\u001b[1;33m(\u001b[0m\u001b[0mK\u001b[0m\u001b[1;33m=\u001b[0m\u001b[0mK\u001b[0m\u001b[1;33m)\u001b[0m\u001b[1;33m\u001b[0m\u001b[1;33m\u001b[0m\u001b[0m\n\u001b[0;32m     21\u001b[0m             \u001b[0mmodel\u001b[0m\u001b[1;33m.\u001b[0m\u001b[0mtrain\u001b[0m\u001b[1;33m(\u001b[0m\u001b[0mX_train\u001b[0m\u001b[1;33m,\u001b[0m \u001b[0my_train\u001b[0m\u001b[1;33m)\u001b[0m\u001b[1;33m\u001b[0m\u001b[1;33m\u001b[0m\u001b[0m\n\u001b[1;32m---> 22\u001b[1;33m             \u001b[0macc\u001b[0m \u001b[1;33m=\u001b[0m \u001b[0mmodel\u001b[0m\u001b[1;33m.\u001b[0m\u001b[0mevaluate\u001b[0m\u001b[1;33m(\u001b[0m\u001b[0mX_test\u001b[0m\u001b[1;33m,\u001b[0m \u001b[0my_test\u001b[0m\u001b[1;33m)\u001b[0m\u001b[1;33m[\u001b[0m\u001b[1;34m'mean_accuracy'\u001b[0m\u001b[1;33m]\u001b[0m\u001b[1;33m\u001b[0m\u001b[1;33m\u001b[0m\u001b[0m\n\u001b[0m\u001b[0;32m     23\u001b[0m \u001b[1;33m\u001b[0m\u001b[0m\n\u001b[0;32m     24\u001b[0m             \u001b[0maccuracys\u001b[0m\u001b[1;33m.\u001b[0m\u001b[0mappend\u001b[0m\u001b[1;33m(\u001b[0m\u001b[0macc\u001b[0m\u001b[1;33m)\u001b[0m\u001b[1;33m\u001b[0m\u001b[1;33m\u001b[0m\u001b[0m\n",
      "\u001b[1;32mc:\\Users\\hk3pz\\Documents\\Cours\\LAVAL\\Hiver_2021\\IFT_7025\\TP2\\Knn.py\u001b[0m in \u001b[0;36mevaluate\u001b[1;34m(self, X, y)\u001b[0m\n\u001b[0;32m    111\u001b[0m \u001b[1;33m\u001b[0m\u001b[0m\n\u001b[0;32m    112\u001b[0m         \"\"\"\n\u001b[1;32m--> 113\u001b[1;33m         \u001b[0my_pred\u001b[0m \u001b[1;33m=\u001b[0m \u001b[0mself\u001b[0m\u001b[1;33m.\u001b[0m\u001b[0mpredict\u001b[0m\u001b[1;33m(\u001b[0m\u001b[0mX\u001b[0m\u001b[1;33m)\u001b[0m\u001b[1;33m\u001b[0m\u001b[1;33m\u001b[0m\u001b[0m\n\u001b[0m\u001b[0;32m    114\u001b[0m         \u001b[0mcf\u001b[0m \u001b[1;33m=\u001b[0m \u001b[0mself\u001b[0m\u001b[1;33m.\u001b[0m\u001b[0mconfusion_matrix\u001b[0m\u001b[1;33m(\u001b[0m\u001b[0my_pred\u001b[0m\u001b[1;33m,\u001b[0m \u001b[0my\u001b[0m\u001b[1;33m)\u001b[0m\u001b[1;33m\u001b[0m\u001b[1;33m\u001b[0m\u001b[0m\n\u001b[0;32m    115\u001b[0m \u001b[1;33m\u001b[0m\u001b[0m\n",
      "\u001b[1;32mc:\\Users\\hk3pz\\Documents\\Cours\\LAVAL\\Hiver_2021\\IFT_7025\\TP2\\Knn.py\u001b[0m in \u001b[0;36mpredict\u001b[1;34m(self, X)\u001b[0m\n\u001b[0;32m     57\u001b[0m         \u001b[0my_pred\u001b[0m \u001b[1;33m=\u001b[0m \u001b[1;33m[\u001b[0m\u001b[1;33m]\u001b[0m\u001b[1;33m\u001b[0m\u001b[1;33m\u001b[0m\u001b[0m\n\u001b[0;32m     58\u001b[0m         \u001b[1;32mfor\u001b[0m \u001b[0mX_test_row\u001b[0m \u001b[1;32min\u001b[0m \u001b[0mX\u001b[0m\u001b[1;33m:\u001b[0m\u001b[1;33m\u001b[0m\u001b[1;33m\u001b[0m\u001b[0m\n\u001b[1;32m---> 59\u001b[1;33m             \u001b[0mK_neighbors\u001b[0m \u001b[1;33m=\u001b[0m \u001b[0mself\u001b[0m\u001b[1;33m.\u001b[0m\u001b[0mgetNeighbors\u001b[0m\u001b[1;33m(\u001b[0m\u001b[0mX_test_row\u001b[0m\u001b[1;33m)\u001b[0m\u001b[1;33m\u001b[0m\u001b[1;33m\u001b[0m\u001b[0m\n\u001b[0m\u001b[0;32m     60\u001b[0m             \u001b[0mclasses\u001b[0m \u001b[1;33m=\u001b[0m \u001b[1;33m[\u001b[0m\u001b[0mrow\u001b[0m\u001b[1;33m[\u001b[0m\u001b[1;33m-\u001b[0m\u001b[1;36m1\u001b[0m\u001b[1;33m]\u001b[0m \u001b[1;32mfor\u001b[0m \u001b[0mrow\u001b[0m \u001b[1;32min\u001b[0m \u001b[0mK_neighbors\u001b[0m\u001b[1;33m]\u001b[0m\u001b[1;33m\u001b[0m\u001b[1;33m\u001b[0m\u001b[0m\n\u001b[0;32m     61\u001b[0m             \u001b[0mprediction\u001b[0m \u001b[1;33m=\u001b[0m \u001b[0mmax\u001b[0m\u001b[1;33m(\u001b[0m\u001b[0mset\u001b[0m\u001b[1;33m(\u001b[0m\u001b[0mclasses\u001b[0m\u001b[1;33m)\u001b[0m\u001b[1;33m,\u001b[0m \u001b[0mkey\u001b[0m\u001b[1;33m=\u001b[0m\u001b[0mclasses\u001b[0m\u001b[1;33m.\u001b[0m\u001b[0mcount\u001b[0m\u001b[1;33m)\u001b[0m\u001b[1;33m\u001b[0m\u001b[1;33m\u001b[0m\u001b[0m\n",
      "\u001b[1;32mc:\\Users\\hk3pz\\Documents\\Cours\\LAVAL\\Hiver_2021\\IFT_7025\\TP2\\Knn.py\u001b[0m in \u001b[0;36mgetNeighbors\u001b[1;34m(self, X_test_row)\u001b[0m\n\u001b[0;32m     40\u001b[0m         \u001b[0mdistances\u001b[0m \u001b[1;33m=\u001b[0m \u001b[1;33m[\u001b[0m\u001b[1;33m]\u001b[0m\u001b[1;33m\u001b[0m\u001b[1;33m\u001b[0m\u001b[0m\n\u001b[0;32m     41\u001b[0m         \u001b[1;32mfor\u001b[0m \u001b[0mX_train_row\u001b[0m\u001b[1;33m,\u001b[0m \u001b[0my_train_row\u001b[0m \u001b[1;32min\u001b[0m \u001b[0mzip\u001b[0m\u001b[1;33m(\u001b[0m\u001b[0mself\u001b[0m\u001b[1;33m.\u001b[0m\u001b[0mX_train\u001b[0m\u001b[1;33m,\u001b[0m \u001b[0mself\u001b[0m\u001b[1;33m.\u001b[0m\u001b[0my_train\u001b[0m\u001b[1;33m)\u001b[0m\u001b[1;33m:\u001b[0m\u001b[1;33m\u001b[0m\u001b[1;33m\u001b[0m\u001b[0m\n\u001b[1;32m---> 42\u001b[1;33m             \u001b[0mdistances\u001b[0m\u001b[1;33m.\u001b[0m\u001b[0mappend\u001b[0m\u001b[1;33m(\u001b[0m\u001b[1;33m[\u001b[0m\u001b[0mX_train_row\u001b[0m\u001b[1;33m,\u001b[0m \u001b[0mself\u001b[0m\u001b[1;33m.\u001b[0m\u001b[0meuclidean_distance\u001b[0m\u001b[1;33m(\u001b[0m\u001b[0mX_test_row\u001b[0m\u001b[1;33m,\u001b[0m \u001b[0mX_train_row\u001b[0m\u001b[1;33m)\u001b[0m\u001b[1;33m,\u001b[0m \u001b[0my_train_row\u001b[0m\u001b[1;33m]\u001b[0m\u001b[1;33m)\u001b[0m\u001b[1;33m\u001b[0m\u001b[1;33m\u001b[0m\u001b[0m\n\u001b[0m\u001b[0;32m     43\u001b[0m         \u001b[0mdistances\u001b[0m\u001b[1;33m.\u001b[0m\u001b[0msort\u001b[0m\u001b[1;33m(\u001b[0m\u001b[0mkey\u001b[0m\u001b[1;33m=\u001b[0m\u001b[1;32mlambda\u001b[0m \u001b[0mdistances\u001b[0m\u001b[1;33m:\u001b[0m \u001b[0mdistances\u001b[0m\u001b[1;33m[\u001b[0m\u001b[1;36m1\u001b[0m\u001b[1;33m]\u001b[0m\u001b[1;33m)\u001b[0m\u001b[1;33m\u001b[0m\u001b[1;33m\u001b[0m\u001b[0m\n\u001b[0;32m     44\u001b[0m \u001b[1;33m\u001b[0m\u001b[0m\n",
      "\u001b[1;31mKeyboardInterrupt\u001b[0m: "
     ]
    }
   ],
   "source": [
    "import operator\n",
    "from load_datasets import load_iris_dataset\n",
    "from load_datasets import load_wine_dataset\n",
    "from load_datasets import load_abalone_dataset\n",
    "\n",
    "# Initialisez vos paramètres\n",
    "K_values = [k for k in range(1, 10)]\n",
    "\n",
    "# Charger/lire les datasets\n",
    "X_train_iris, y_train_iris, X_test_iris, y_test_iris = load_iris_dataset(train_ratio=0.7, seed=42, shuffle=True)\n",
    "X_train_wine, y_train_wine, X_test_wine, y_test_wine = load_wine_dataset(train_ratio=0.7, seed=42, shuffle=True)\n",
    "X_train_abalone, y_train_abalone, X_test_abalone, y_test_abalone = load_abalone_dataset(train_ratio=0.7, seed=42, shuffle=True)\n",
    "\n",
    "# Encode Iris y\n",
    "le = labelEncoder()\n",
    "y_train_iris = le.fit_transform(y_train_iris)\n",
    "y_test_iris = le.transform(y_test_iris)\n",
    "\n",
    "# Validation croisée\n",
    "N_split_iris = 6 # --> Pas toutes les classes das les splits si > 6\n",
    "N_split_wine = 3 # --> Trop long\n",
    "N_split_abalone = 3 # --> Trop long\n",
    "\n",
    "print('IRIS')\n",
    "K_opti_iris = cv_knn(N_split_iris, X_train_iris, y_train_iris, X_test_iris, y_test_iris, K_values)\n",
    "print('WIN')\n",
    "K_opti_wine = cv_knn(N_split_wine, X_train_wine, y_train_wine, X_test_wine, y_test_wine, K_values)\n",
    "print('ABALONE')\n",
    "K_opti_abalone = cv_knn(N_split_abalone, X_train_abalone, y_train_abalone, X_test_abalone, y_test_abalone, K_values)"
   ]
  },
  {
   "cell_type": "code",
   "execution_count": 31,
   "metadata": {},
   "outputs": [
    {
     "output_type": "execute_result",
     "data": {
      "text/plain": [
       "4.358898943540674"
      ]
     },
     "metadata": {},
     "execution_count": 31
    }
   ],
   "source": [
    "x1 = np.array([1, 2, 5])\n",
    "x2 = np.array([0, 5, 8])\n",
    "\n",
    "(((x1 - x2)**2).sum())**0.5"
   ]
  }
 ]
}